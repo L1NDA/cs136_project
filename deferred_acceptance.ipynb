{
 "cells": [
  {
   "cell_type": "code",
   "execution_count": 5,
   "metadata": {
    "collapsed": true
   },
   "outputs": [],
   "source": [
    "# saving this for imports if needed later"
   ]
  },
  {
   "cell_type": "code",
   "execution_count": 6,
   "metadata": {
    "collapsed": true
   },
   "outputs": [],
   "source": [
    "# to change to many-to-many:\n",
    "# need to match top n'th pairs in dancer_pairing()\n",
    "# need to decide how many to accept in choreographer tiebreaking"
   ]
  },
  {
   "cell_type": "code",
   "execution_count": 50,
   "metadata": {
    "collapsed": true
   },
   "outputs": [],
   "source": [
    "# inputs: takes two list-of-lists as arguments, one with dancer ordered preferences for each song \n",
    "# and one with previous matches (as tuples to indicate whether they were matched - (song, match boolean))\n",
    "\n",
    "def dancer_pairing(dancer_preferences, prev_matches):\n",
    "    new_matches = prev_matches\n",
    "    \n",
    "    # if there have been no matches (round = 0), give everyone first preference\n",
    "    if len(prev_matches) == 0:\n",
    "        for rankings in dancer_preferences:\n",
    "            new_matches.append([(rankings[0],1)])\n",
    "    \n",
    "    # else match unmatched dancers with their top choice that has not yet been matched\n",
    "    else:\n",
    "        for index, dancer in enumerate(prev_matches):\n",
    "            \n",
    "            # check if dancer is unmatched\n",
    "            if dancer[-1][1] == 0:\n",
    "\n",
    "                # go through preferences of the dancer in order\n",
    "                for preference in dancer_preferences[index]:\n",
    "                    already_used = False\n",
    "                    \n",
    "                    # find highest pref'd unmatched song\n",
    "                    for already_tried in prev_matches[index]:\n",
    "                        \n",
    "                        if preference == already_tried[0]:\n",
    "                            already_used = True\n",
    "                            break\n",
    "                            \n",
    "                    if already_used == False:\n",
    "                        new_matches[index].append((preference, 1))\n",
    "                        break\n",
    "                        \n",
    "            else:\n",
    "                new_matches[index].append(dancer[-1])\n",
    "    \n",
    "    return new_matches\n",
    "\n",
    "    # new_matches is a list that expands prev_matches with the temporary dancer matches for the round\n",
    "    \n",
    "    # on input dancer_pairing([[1,2,0],[0,1,2],[1,0,2]], [[(1,1)], [(0,1)], [(1,0)]]), \n",
    "    # returns match history as [[(1, 1), (1, 1)], [(0, 1), (0, 1)], [(1, 0), (2, 1)]]"
   ]
  },
  {
   "cell_type": "code",
   "execution_count": 51,
   "metadata": {},
   "outputs": [
    {
     "data": {
      "text/plain": [
       "[[(1, 1), (1, 1)], [(0, 1), (0, 1)], [(1, 0), (0, 1)]]"
      ]
     },
     "execution_count": 51,
     "metadata": {},
     "output_type": "execute_result"
    }
   ],
   "source": [
    "dancer_pairing([[1,2,0],[0,1,2],[1,0,2]], [[(1,1)], [(0,1)], [(1,0)]])"
   ]
  },
  {
   "cell_type": "code",
   "execution_count": 37,
   "metadata": {
    "collapsed": true
   },
   "outputs": [],
   "source": [
    "# inputs: takes two list-of-lists as arguments, one with choreographer ordered preferences for each dancer \n",
    "# and one with temporary dancer matches\n",
    "\n",
    "def choreographer_tiebreak(choreographer_preferences, prev_matches):\n",
    "    choreographer_choice = []\n",
    "    \n",
    "    # looks for dancers who matched to the same song\n",
    "    for index, match in enumerate(prev_matches):\n",
    "        reference_match = match[-1]\n",
    "        tied_matches = {index}\n",
    "        tied_song = 0\n",
    "        \n",
    "        # compares to all dancers with a higher index than our point of reference\n",
    "        for comparison_index_add in range(1, len(prev_matches) - index):\n",
    "            comparison_index = comparison_index_add + index\n",
    "            if prev_matches[comparison_index][-1] == reference_match:\n",
    "                # appends dancer index to tied matches\n",
    "                tied_matches.add(comparison_index)\n",
    "                tied_song = prev_matches[comparison_index][-1][0]\n",
    "        \n",
    "        # breaks tie if there are any\n",
    "        if len(tied_matches) > 1:\n",
    "            for dancer in choreographer_preferences[tied_song]:\n",
    "                if dancer in tied_matches:\n",
    "                    tied_matches.remove(dancer)\n",
    "                    # unmatch with all other dancers that aren't the top\n",
    "                    for remaining_dancer in tied_matches:\n",
    "                        prev_matches[remaining_dancer][-1] = (tied_song,0)\n",
    "                        break\n",
    "    \n",
    "    return prev_matches\n",
    "\n",
    "    # prev_matches is the edited list of dancer matches after the choreographer broke the ties\n",
    "    \n",
    "    # on input choreographer_tiebreak([[0,2,1],[0,1,2],[1,0,2]], [[(1, 1)], [(0, 1)], [(1, 1)]]),\n",
    "    # returns breaks the tie for song 1 and returns [[(1, 1)], [(0, 1)], [(1, 0)]]"
   ]
  },
  {
   "cell_type": "code",
   "execution_count": 38,
   "metadata": {},
   "outputs": [
    {
     "data": {
      "text/plain": [
       "[[(1, 1)], [(0, 1)], [(1, 0)]]"
      ]
     },
     "execution_count": 38,
     "metadata": {},
     "output_type": "execute_result"
    }
   ],
   "source": [
    "choreographer_tiebreak([[0,2,1],[0,1,2],[1,0,2]], [[(1, 1)], [(0, 1)], [(1, 1)]])"
   ]
  },
  {
   "cell_type": "code",
   "execution_count": 39,
   "metadata": {
    "collapsed": true
   },
   "outputs": [],
   "source": [
    "def deferred_acceptance(dancer_preferences, choreographer_preferences):\n",
    "    curr_matches = []\n",
    "    prev_matches = []\n",
    "    prev_matches_cleaned = []\n",
    "    \n",
    "    exists_unmatched = True\n",
    "    \n",
    "    while exists_unmatched or len(curr_matches) == 0:\n",
    "        prev_matches_cleaned = curr_matches.copy()\n",
    "        temp_matches_dancer = dancer_pairing(dancer_preferences, prev_matches)\n",
    "        print(\"temp_matches_dancer\", temp_matches_dancer)\n",
    "        temp_matches_choreographer = choreographer_tiebreak(choreographer_preferences, temp_matches_dancer)\n",
    "        print(\"temp_matches_choreographer\", temp_matches_choreographer)\n",
    "        \n",
    "        # create current matches tracker\n",
    "        exists_unmatched = False\n",
    "        curr_matches = []\n",
    "        for dancer in temp_matches_choreographer:\n",
    "            # appends dance to current matches tracker if allocated\n",
    "            if dancer[-1][1] == 1:\n",
    "                curr_matches.append(dancer[-1][0])\n",
    "            else:\n",
    "                exists_unmatched = True\n",
    "        \n",
    "        prev_matches = temp_matches_choreographer\n",
    "    \n",
    "    return curr_matches"
   ]
  },
  {
   "cell_type": "code",
   "execution_count": 52,
   "metadata": {},
   "outputs": [
    {
     "name": "stdout",
     "output_type": "stream",
     "text": [
      "temp_matches_dancer [[(0, 1)], [(2, 1)], [(0, 1)]]\n",
      "temp_matches_choreographer [[(0, 1)], [(2, 1)], [(0, 0)]]\n",
      "temp_matches_dancer [[(0, 1), (0, 1)], [(2, 1), (2, 1)], [(0, 0), (2, 1)]]\n",
      "temp_matches_choreographer [[(0, 1), (0, 1)], [(2, 1), (2, 1)], [(0, 0), (2, 0)]]\n",
      "temp_matches_dancer [[(0, 1), (0, 1), (0, 1)], [(2, 1), (2, 1), (2, 1)], [(0, 0), (2, 0), (1, 1)]]\n",
      "temp_matches_choreographer [[(0, 1), (0, 1), (0, 1)], [(2, 1), (2, 1), (2, 1)], [(0, 0), (2, 0), (1, 1)]]\n"
     ]
    },
    {
     "data": {
      "text/plain": [
       "[0, 2, 1]"
      ]
     },
     "execution_count": 52,
     "metadata": {},
     "output_type": "execute_result"
    }
   ],
   "source": [
    "deferred_acceptance([[0,2,1],[2,0,1],[0,2,1]], [[1,0,2],[0,2,1],[0,1,2]])"
   ]
  },
  {
   "cell_type": "code",
   "execution_count": 49,
   "metadata": {},
   "outputs": [
    {
     "name": "stdout",
     "output_type": "stream",
     "text": [
      "preference 0\n",
      "already_tried (0, 0)\n",
      "preference 2\n",
      "already_tried (0, 0)\n",
      "already_tried (2, 0)\n",
      "preference 1\n",
      "already_tried (0, 0)\n",
      "already_tried (2, 0)\n"
     ]
    },
    {
     "data": {
      "text/plain": [
       "[[(0, 1), (0, 1), (0, 1)], [(2, 1), (2, 1), (2, 1)], [(0, 0), (2, 0), (1, 1)]]"
      ]
     },
     "execution_count": 49,
     "metadata": {},
     "output_type": "execute_result"
    }
   ],
   "source": [
    "dancer_pairing([[0,2,1],[2,0,1],[0,2,1]], [[(0, 1), (0, 1)], [(2, 1), (2, 1)], [(0, 0), (2, 0)]])"
   ]
  },
  {
   "cell_type": "code",
   "execution_count": null,
   "metadata": {
    "collapsed": true
   },
   "outputs": [],
   "source": []
  }
 ],
 "metadata": {
  "kernelspec": {
   "display_name": "Python 3",
   "language": "python",
   "name": "python3"
  },
  "language_info": {
   "codemirror_mode": {
    "name": "ipython",
    "version": 3
   },
   "file_extension": ".py",
   "mimetype": "text/x-python",
   "name": "python",
   "nbconvert_exporter": "python",
   "pygments_lexer": "ipython3",
   "version": "3.6.3"
  }
 },
 "nbformat": 4,
 "nbformat_minor": 2
}
