{
 "cells": [
  {
   "cell_type": "code",
   "execution_count": 14,
   "metadata": {
    "collapsed": true
   },
   "outputs": [],
   "source": [
    "# saving this for imports if needed later\n",
    "import copy\n",
    "import collections"
   ]
  },
  {
   "cell_type": "markdown",
   "metadata": {},
   "source": [
    "## thoughts\n",
    "up to n number of songs a dancer can match to  \n",
    "up to [list] number of dancers each dance can accept  \n",
    "keep going until all dances are full  \n",
    "\n",
    "question: should rejected dancers in round n continue proposing?  \n",
    "if not: this is not strategy-proof for dancers, since they have an incentive to report a lower preference higher to be allocated  \n",
    "if so: then dancers will keep proposing bc there will always be some who are rejected; ends up matching choreographer preferences\n",
    "\n",
    "therefore, dancers must have equal airtime (allocated same number of front-spaces)?  \n",
    "but in the case that the choreographer has someone high in many songs, dancers can tiebreak by choosing which ones"
   ]
  },
  {
   "cell_type": "code",
   "execution_count": 25,
   "metadata": {
    "collapsed": true
   },
   "outputs": [],
   "source": [
    "# inputs:\n",
    "\n",
    "# unmatched_dancer_preferences: list of remaining unmatched preferences for each dancer\n",
    "# prev_proposals: list-of-lists; outer layer of lists records the rounds; inner layer records each players's proposals for the round (as indices)\n",
    "# choreographer_acceptance: list-of-lists; outer layer of lists records the rounds; inner layer records the choreographers' acceptance for each player (as a boolean)\n",
    "# dancer_quota: a number signifying the upper bound of proposals each player can make per round\n",
    "\n",
    "def dancer_pairing_many(unmatched_dancer_preferences, prev_proposals, choreographer_acceptance, dancer_quota):\n",
    "    new_proposals = prev_proposals\n",
    "    entire_round_proposals = []\n",
    "    finished = True\n",
    "    \n",
    "    # if there have been no matches (round = 0), give everyone first preference\n",
    "    if len(prev_proposals) == 0:\n",
    "        \n",
    "        # rankings = each dancer's rankings\n",
    "        for index, rankings in enumerate(unmatched_dancer_preferences):\n",
    "            \n",
    "            temp_dancer_proposals = []\n",
    "            \n",
    "            # add q number of top rankings\n",
    "            for i in range(dancer_quota[index]):\n",
    "                \n",
    "                # if there are still unmatched preferences:\n",
    "                if rankings:\n",
    "                    temp_dancer_proposals.append(rankings[0])\n",
    "                    rankings.remove(rankings[0])\n",
    "                \n",
    "            entire_round_proposals.append(temp_dancer_proposals)\n",
    "            finished = False\n",
    "    \n",
    "    # else match unmatched dancers with their top choice that has not yet been matched\n",
    "    # index = index of dancer, dancer = list of all dancer's proposals in the previous round\n",
    "    else:\n",
    "        for index, dancer in enumerate(prev_proposals[-1]):\n",
    "            temp_dancer_proposals = []\n",
    "            \n",
    "            # check if dancer is unmatched for one of their i proposals\n",
    "            for i in range(len(dancer)):\n",
    "                    \n",
    "                # if the choreographer did not accept the dancer's i'th proposal from the last round\n",
    "                if choreographer_acceptance[-1][index][i] == 0:\n",
    "                    \n",
    "                    # if there are still unmatched preferences:\n",
    "                    if (unmatched_dancer_preferences[index]):\n",
    "                    \n",
    "                        # add the highest remaining preference to temp_matches\n",
    "                        # and remove it from the unmatched preferences list\n",
    "                        temp_dancer_proposals.append(unmatched_dancer_preferences[index][0])\n",
    "                        unmatched_dancer_preferences[index].remove(unmatched_dancer_preferences[index][0])\n",
    "                        \n",
    "                        finished = False\n",
    "                        \n",
    "                # if choreographer did accept the i'th proposal, count it in this round's proposals        \n",
    "                else:\n",
    "                    temp_dancer_proposals.append(dancer[i])\n",
    "                    \n",
    "            entire_round_proposals.append(temp_dancer_proposals)\n",
    "                                               \n",
    "    new_proposals.append(entire_round_proposals)\n",
    "    return unmatched_dancer_preferences, new_proposals, finished"
   ]
  },
  {
   "cell_type": "code",
   "execution_count": 16,
   "metadata": {},
   "outputs": [
    {
     "data": {
      "text/plain": [
       "([[], [], [1]], [[[0, 2], [2, 0], [0, 2]], [[1, 2], [2, 1], [0, 2]]], False)"
      ]
     },
     "execution_count": 16,
     "metadata": {},
     "output_type": "execute_result"
    }
   ],
   "source": [
    "dancer_pairing_many([[1],[1],[1]], [[[0,2], [2,0], [0,2]]], [[[0,1], [1,0], [1,1]]], [2,2,2])"
   ]
  },
  {
   "cell_type": "code",
   "execution_count": 17,
   "metadata": {},
   "outputs": [
    {
     "data": {
      "text/plain": [
       "([[1], [1], [1]], [[[0, 2], [2, 0], [0, 2]]], False)"
      ]
     },
     "execution_count": 17,
     "metadata": {},
     "output_type": "execute_result"
    }
   ],
   "source": [
    "dancer_pairing_many([[0,2,1],[2,0,1],[0,2,1]], [], [], [2,2,2])"
   ]
  },
  {
   "cell_type": "code",
   "execution_count": 18,
   "metadata": {
    "collapsed": true
   },
   "outputs": [],
   "source": [
    "# inputs:\n",
    "\n",
    "# choreographer_preferences: list of choreographer's preferences for each song\n",
    "# prev_proposals: list-of-lists; outer layer of lists records the rounds; inner layer records each players's proposals for the round (as indices)\n",
    "# choreographer_acceptance: list-of-lists; outer layer of lists records the rounds; inner layer records the choreographers' acceptance for each player (as a boolean)\n",
    "# dancer_quota: a number signifying the upper bound of proposals each player can make per round\n",
    "# song_quota: a list of the number of positions available for each song\n",
    "\n",
    "def choreographer_tiebreak_many(choreographer_preferences, prev_proposals, choreographer_acceptance, dancer_quota, song_quota):\n",
    "    songs_done = set()\n",
    "    entire_round_responses = []\n",
    "\n",
    "    # create a dict for each song\n",
    "    proposals_per_song = collections.defaultdict(list)\n",
    "    \n",
    "    # iterate through each dancer's proposals\n",
    "    # and append (dancer's index, choreographer's rank of the dancer) to the appropriate song key\n",
    "    for dancer_index, dancer_proposal in enumerate(prev_proposals[-1]):\n",
    "        for song_proposal in dancer_proposal:\n",
    "            choreographer_rank = choreographer_preferences[song_proposal].index(dancer_index)\n",
    "            proposals_per_song[song_proposal].append((dancer_index, choreographer_rank))\n",
    "    \n",
    "    # sort by choreographer's rank of the dancers\n",
    "    for song_index in range(len(choreographer_preferences)):\n",
    "        proposals_per_song[song_index].sort(key=lambda x: x[1])\n",
    "        \n",
    "    # go through each dancer's proposals and responds accordingly\n",
    "    for dancer_index, dancer_proposal in enumerate(prev_proposals[-1]):\n",
    "        \n",
    "        dancer_response = []\n",
    "        \n",
    "        for song_proposal in dancer_proposal:\n",
    "            \n",
    "            # find index of dancer in the sorted list of proposals per song\n",
    "            for song_index, tup in enumerate(proposals_per_song[song_proposal]):\n",
    "                \n",
    "                if tup[0] == dancer_index:\n",
    "            \n",
    "                    # accept if dancer is ranked within the quota of positions available\n",
    "                    # reject if not\n",
    "                    if song_index < song_quota[song_proposal]:\n",
    "                        dancer_response.append(1)\n",
    "                    else:\n",
    "                        dancer_response.append(0)\n",
    "                \n",
    "        entire_round_responses.append(dancer_response)\n",
    "    \n",
    "    choreographer_acceptance.append(entire_round_responses)\n",
    "    return choreographer_acceptance"
   ]
  },
  {
   "cell_type": "code",
   "execution_count": 19,
   "metadata": {},
   "outputs": [
    {
     "data": {
      "text/plain": [
       "[[[1, 1], [1, 0], [1, 0]]]"
      ]
     },
     "execution_count": 19,
     "metadata": {},
     "output_type": "execute_result"
    }
   ],
   "source": [
    "choreographer_tiebreak_many([[0,2,1],[0,1,2],[1,0,2]], [[[0, 2], [2, 0], [0, 2]]], [], 2, [2, 1, 2])"
   ]
  },
  {
   "cell_type": "code",
   "execution_count": 20,
   "metadata": {
    "collapsed": true
   },
   "outputs": [],
   "source": [
    "def deferred_acceptance_many(dancer_preferences, choreographer_preferences, dancer_quota, song_quota):\n",
    "    unmatched_preferences = dancer_preferences\n",
    "    new_proposals = []\n",
    "    choreographer_acceptance = []\n",
    "    prev_matches_cleaned = []\n",
    "    finished = False\n",
    "    \n",
    "    exists_unmatched = True\n",
    "    \n",
    "    while not finished:\n",
    "        unmatched_preferences, new_proposals, finished = dancer_pairing_many(unmatched_preferences, new_proposals, choreographer_acceptance, dancer_quota)\n",
    "        choreographer_acceptance = choreographer_tiebreak_many(choreographer_preferences, new_proposals, choreographer_acceptance, dancer_quota, song_quota)\n",
    "    \n",
    "    return new_proposals[-1]"
   ]
  },
  {
   "cell_type": "code",
   "execution_count": 22,
   "metadata": {},
   "outputs": [
    {
     "data": {
      "text/plain": [
       "[[0, 2], [2, 1], [0]]"
      ]
     },
     "execution_count": 22,
     "metadata": {},
     "output_type": "execute_result"
    }
   ],
   "source": [
    "deferred_acceptance_many([[0,2,1],[2,0,1],[0,2,1]], [[0,2,1],[0,1,2],[1,0,2]], [2,2,2], [2,1,2])"
   ]
  },
  {
   "cell_type": "code",
   "execution_count": 23,
   "metadata": {},
   "outputs": [
    {
     "data": {
      "text/plain": [
       "[[1, 5, 4],\n",
       " [1, 3, 2],\n",
       " [4, 3, 2],\n",
       " [1, 2, 7],\n",
       " [1, 2, 5],\n",
       " [2, 7, 0],\n",
       " [2, 0],\n",
       " [4, 6, 2],\n",
       " [7, 3, 6],\n",
       " [2, 4],\n",
       " [4],\n",
       " [7, 1, 2],\n",
       " [7, 6, 4],\n",
       " [2, 0, 4],\n",
       " [3, 0],\n",
       " [3, 0, 7],\n",
       " [5, 7, 2],\n",
       " [2],\n",
       " [],\n",
       " [5, 6],\n",
       " [4, 5, 0],\n",
       " [5, 3, 7],\n",
       " [4, 1, 0],\n",
       " [4, 0]]"
      ]
     },
     "execution_count": 23,
     "metadata": {},
     "output_type": "execute_result"
    }
   ],
   "source": [
    "deferred_acceptance_many(\n",
    "    [[0, 6, 4, 5, 3, 7, 1, 2], [4, 5, 2, 1, 3, 7, 0, 6], [4, 3, 7, 2, 0, 1, 5, 6], [1, 6, 7, 3, 2, 4, 5, 0], [4, 6, 0, 1, 3, 7, 2, 5], [3, 7, 0, 2, 5, 4, 6, 1], [5, 4, 0, 6, 1, 3, 2, 7], [4, 6, 2, 5, 7, 0, 3, 1], [7, 0, 2, 5, 3, 6, 1, 4], [5, 7, 0, 1, 3, 2, 4, 6], [2, 7, 1, 6, 3, 0, 4, 5], [7, 4, 2, 1, 5, 3, 6, 0], [7, 6, 4, 1, 0, 5, 3, 2], [2, 0, 6, 4, 7, 3, 1, 5], [5, 2, 6, 1, 4, 7, 0, 3], [6, 1, 7, 4, 3, 0, 2, 5], [6, 3, 2, 1, 5, 7, 4, 0], [2, 0, 4, 6, 5, 1, 3, 7], [6, 3, 0, 7, 4, 5, 2, 1], [3, 1, 4, 7, 6, 0, 5, 2], [4, 1, 0, 7, 3, 5, 2, 6], [1, 3, 4, 7, 5, 6, 2, 0], [4, 7, 5, 3, 6, 1, 0, 2], [5, 4, 6, 2, 1, 7, 0, 3]], \n",
    "    [[21, 15, 5, 14, 1, 6, 20, 7, 22, 2, 3, 23, 12, 11, 13, 19, 4, 9, 16, 17, 0, 8, 10, 18], [12, 22, 1, 13, 5, 11, 3, 0, 4, 2, 7, 14, 15, 16, 19, 20, 21, 10, 17, 23, 8, 18, 6, 9], [12, 13, 2, 7, 15, 6, 22, 17, 11, 1, 5, 21, 3, 16, 4, 9, 0, 20, 18, 10, 19, 8, 23, 14], [11, 1, 21, 7, 14, 12, 2, 13, 15, 8, 3, 19, 10, 23, 22, 0, 20, 5, 18, 9, 17, 6, 4, 16], [23, 0, 20, 7, 22, 10, 13, 8, 16, 2, 9, 12, 14, 5, 6, 15, 17, 18, 19, 11, 21, 3, 4, 1], [0, 21, 19, 15, 16, 4, 11, 5, 20, 13, 12, 7, 1, 14, 2, 22, 18, 10, 9, 17, 6, 23, 8, 3], [7, 12, 19, 8, 18, 0, 17, 11, 21, 23, 1, 5, 14, 9, 10, 4, 2, 20, 22, 3, 13, 16, 15, 6], [3, 7, 8, 21, 11, 12, 16, 5, 15, 9, 20, 17, 13, 14, 19, 10, 0, 2, 23, 1, 6, 18, 22, 4]],\n",
    "    [3,3,3,3,3,3,3,3,3,3,3,3,3,3,3,3,3,3,3,3,3,3,3,3], \n",
    "    [8, 6, 12, 6, 10, 6, 4, 8])"
   ]
  },
  {
   "cell_type": "code",
   "execution_count": null,
   "metadata": {
    "collapsed": true
   },
   "outputs": [],
   "source": [
    "[[8, 6, 4, 5, 3, 7, 1, 2], \n",
    " [4, 5, 2, 1, 3, 7, 8, 6], \n",
    " [4, 3, 7, 2, 8, 1, 5, 6], \n",
    " [1, 6, 7, 3, 2, 4, 5, 8], \n",
    " [4, 6, 8, 1, 3, 7, 2, 5], \n",
    " [3, 7, 8, 2, 5, 4, 6, 1], \n",
    " [5, 4, 8, 6, 1, 3, 2, 7], \n",
    " [4, 6, 2, 5, 7, 8, 3, 1], \n",
    " [7, 8, 2, 5, 3, 6, 1, 4], \n",
    " [5, 7, 8, 1, 3, 2, 4, 6], \n",
    " [2, 7, 1, 6, 3, 8, 4, 5], \n",
    " [7, 4, 2, 1, 5, 3, 6, 8], \n",
    " [7, 6, 4, 1, 8, 5, 3, 2], \n",
    " [2, 8, 6, 4, 7, 3, 1, 5], \n",
    " [5, 2, 6, 1, 4, 7, 8, 3], \n",
    " [6, 1, 7, 4, 3, 8, 2, 5], \n",
    " [6, 3, 2, 1, 5, 7, 4, 8], \n",
    " [2, 8, 4, 6, 5, 1, 3, 7], \n",
    " [6, 3, 8, 7, 4, 5, 2, 1], \n",
    " [3, 1, 4, 7, 6, 8, 5, 2], \n",
    " [4, 1, 8, 7, 3, 5, 2, 6], \n",
    " [1, 3, 4, 7, 5, 6, 2, 8], \n",
    " [4, 7, 5, 3, 6, 1, 8, 2], \n",
    " [5, 4, 6, 2, 1, 7, 8, 3]]"
   ]
  },
  {
   "cell_type": "code",
   "execution_count": null,
   "metadata": {
    "collapsed": true
   },
   "outputs": [],
   "source": [
    "[[21, 15, 5, 14, 1, 6, 20, 7, 22, 2, 3, 23, 12, 11, 13, 19, 4, 9, 16, 17, 0, 8, 10, 18], \n",
    " [12, 22, 1, 13, 5, 11, 3, 0, 4, 2, 7, 14, 15, 16, 19, 20, 21, 10, 17, 23, 8, 18, 6, 9], \n",
    " [12, 13, 2, 7, 15, 6, 22, 17, 11, 1, 5, 21, 3, 16, 4, 9, 0, 20, 18, 10, 19, 8, 23, 14], \n",
    " [11, 1, 21, 7, 14, 12, 2, 13, 15, 8, 3, 19, 10, 23, 22, 0, 20, 5, 18, 9, 17, 6, 4, 16], \n",
    " [23, 0, 20, 7, 22, 10, 13, 8, 16, 2, 9, 12, 14, 5, 6, 15, 17, 18, 19, 11, 21, 3, 4, 1], \n",
    " [0, 21, 19, 15, 16, 4, 11, 5, 20, 13, 12, 7, 1, 14, 2, 22, 18, 10, 9, 17, 6, 23, 8, 3], \n",
    " [7, 12, 19, 8, 18, 0, 17, 11, 21, 23, 1, 5, 14, 9, 10, 4, 2, 20, 22, 3, 13, 16, 15, 6], \n",
    " [3, 7, 8, 21, 11, 12, 16, 5, 15, 9, 20, 17, 13, 14, 19, 10, 0, 2, 23, 1, 6, 18, 22, 4]]"
   ]
  },
  {
   "cell_type": "code",
   "execution_count": null,
   "metadata": {
    "collapsed": true
   },
   "outputs": [],
   "source": [
    "def deferred_acceptance_many_song_proposing(song_preferences, dancer_preferences, dancer_quota, song_quota):\n",
    "    unmatched_preferences = song_preferences\n",
    "    new_proposals = []\n",
    "    dancer_acceptance = []\n",
    "    prev_matches_cleaned = []\n",
    "    finished = False\n",
    "    \n",
    "    exists_unmatched = True\n",
    "    \n",
    "    while not finished:\n",
    "        unmatched_preferences, new_proposals, finished = dancer_pairing_many(unmatched_preferences, new_proposals, choreographer_acceptance, dancer_quota)\n",
    "        dancer_acceptance = choreographer_tiebreak_many(dancer_preferences, new_proposals, dancer_acceptance, dancer_quota, song_quota)\n",
    "    \n",
    "    return new_proposals[-1]"
   ]
  },
  {
   "cell_type": "code",
   "execution_count": 24,
   "metadata": {},
   "outputs": [
    {
     "data": {
      "text/plain": [
       "[[22, 15, 5, 14, 23, 6, 20, 13],\n",
       " [4, 22, 1, 0, 3, 11],\n",
       " [3, 13, 2, 7, 4, 6, 9, 17, 11, 1, 5, 16],\n",
       " [2, 1, 21, 8, 14, 15],\n",
       " [23, 0, 20, 7, 22, 10, 13, 12, 9, 2],\n",
       " [0, 21, 19, 20, 16, 4],\n",
       " [7, 12, 19, 8],\n",
       " [3, 15, 8, 21, 11, 12, 16, 5]]"
      ]
     },
     "execution_count": 24,
     "metadata": {},
     "output_type": "execute_result"
    }
   ],
   "source": [
    "deferred_acceptance_many(\n",
    "    [[21, 15, 5, 14, 1, 6, 20, 7, 22, 2, 3, 23, 12, 11, 13, 19, 4, 9, 16, 17, 0, 8, 10, 18], [12, 22, 1, 13, 5, 11, 3, 0, 4, 2, 7, 14, 15, 16, 19, 20, 21, 10, 17, 23, 8, 18, 6, 9], [12, 13, 2, 7, 15, 6, 22, 17, 11, 1, 5, 21, 3, 16, 4, 9, 0, 20, 18, 10, 19, 8, 23, 14], [11, 1, 21, 7, 14, 12, 2, 13, 15, 8, 3, 19, 10, 23, 22, 0, 20, 5, 18, 9, 17, 6, 4, 16], [23, 0, 20, 7, 22, 10, 13, 8, 16, 2, 9, 12, 14, 5, 6, 15, 17, 18, 19, 11, 21, 3, 4, 1], [0, 21, 19, 15, 16, 4, 11, 5, 20, 13, 12, 7, 1, 14, 2, 22, 18, 10, 9, 17, 6, 23, 8, 3], [7, 12, 19, 8, 18, 0, 17, 11, 21, 23, 1, 5, 14, 9, 10, 4, 2, 20, 22, 3, 13, 16, 15, 6], [3, 7, 8, 21, 11, 12, 16, 5, 15, 9, 20, 17, 13, 14, 19, 10, 0, 2, 23, 1, 6, 18, 22, 4]],\n",
    "    [[0, 6, 4, 5, 3, 7, 1, 2], [4, 5, 2, 1, 3, 7, 0, 6], [4, 3, 7, 2, 0, 1, 5, 6], [1, 6, 7, 3, 2, 4, 5, 0], [4, 6, 0, 1, 3, 7, 2, 5], [3, 7, 0, 2, 5, 4, 6, 1], [5, 4, 0, 6, 1, 3, 2, 7], [4, 6, 2, 5, 7, 0, 3, 1], [7, 0, 2, 5, 3, 6, 1, 4], [5, 7, 0, 1, 3, 2, 4, 6], [2, 7, 1, 6, 3, 0, 4, 5], [7, 4, 2, 1, 5, 3, 6, 0], [7, 6, 4, 1, 0, 5, 3, 2], [2, 0, 6, 4, 7, 3, 1, 5], [5, 2, 6, 1, 4, 7, 0, 3], [6, 1, 7, 4, 3, 0, 2, 5], [6, 3, 2, 1, 5, 7, 4, 0], [2, 0, 4, 6, 5, 1, 3, 7], [6, 3, 0, 7, 4, 5, 2, 1], [3, 1, 4, 7, 6, 0, 5, 2], [4, 1, 0, 7, 3, 5, 2, 6], [1, 3, 4, 7, 5, 6, 2, 0], [4, 7, 5, 3, 6, 1, 0, 2], [5, 4, 6, 2, 1, 7, 0, 3]], \n",
    "    [8, 6, 12, 6, 10, 6, 4, 8],\n",
    "    [3,3,3,3,3,3,3,3,3,3,3,3,3,3,3,3,3,3,3,3,3,3,3,3])"
   ]
  },
  {
   "cell_type": "code",
   "execution_count": 167,
   "metadata": {},
   "outputs": [
    {
     "data": {
      "text/plain": [
       "[[22, 15, 5, 14, 23, 6, 20, 13],\n",
       " [4, 22, 1, 0, 3, 11],\n",
       " [3, 13, 2, 7, 4, 6, 9, 17, 11, 1, 5, 16],\n",
       " [2, 1, 21, 8, 14, 15],\n",
       " [23, 0, 20, 7, 22, 10, 13, 12, 9, 2],\n",
       " [0, 21, 19, 20, 16, 4],\n",
       " [7, 12, 19, 8],\n",
       " [3, 15, 8, 21, 11, 12, 16, 5]]"
      ]
     },
     "execution_count": 167,
     "metadata": {},
     "output_type": "execute_result"
    }
   ],
   "source": [
    "[[22, 15, 5, 14, 23, 6, 20, 13],\n",
    " [4, 22, 1, 0, 3, 11],\n",
    " [3, 13, 2, 7, 4, 6, 9, 17, 11, 1, 5, 16],\n",
    " [2, 1, 21, 8, 14, 15],\n",
    " [23, 0, 20, 7, 22, 10, 13, 12, 9, 2],\n",
    " [0, 21, 19, 20, 16, 4],\n",
    " [7, 12, 19, 8],\n",
    " [3, 15, 8, 21, 11, 12, 16, 5]]"
   ]
  },
  {
   "cell_type": "markdown",
   "metadata": {},
   "source": [
    "Song 0: 5, 6, 13, 14, 15, 20, 22, 23  \n",
    "Song 1: 0, 1, 3, 4, 11, 22  \n",
    "Song 2: 1, 2, 3, 4, 5, 6, 7, 8, 9, 11, 13, 16, 17  \n",
    "Song 3: 1, 2, 8, 14, 15, 21  \n",
    "Song 4: 0, 2, 7, 9, 10, 12, 13, 20, 22, 23  \n",
    "Song 5: 0, 4, 16, 19, 20, 21  \n",
    "Song 6: 7, 8, 12, 19  \n",
    "Song 7: 3, 5, 8, 11, 12, 15, 16, 21  "
   ]
  },
  {
   "cell_type": "code",
   "execution_count": 26,
   "metadata": {},
   "outputs": [
    {
     "name": "stdout",
     "output_type": "stream",
     "text": [
      "index 0\n",
      "dancer_quota [4, 7, 3, 8, 6, 9]\n",
      "index 1\n",
      "dancer_quota [4, 7, 3, 8, 6, 9]\n",
      "index 2\n",
      "dancer_quota [4, 7, 3, 8, 6, 9]\n",
      "index 3\n",
      "dancer_quota [4, 7, 3, 8, 6, 9]\n",
      "index 4\n",
      "dancer_quota [4, 7, 3, 8, 6, 9]\n",
      "index 5\n",
      "dancer_quota [4, 7, 3, 8, 6, 9]\n",
      "index 6\n",
      "dancer_quota [4, 7, 3, 8, 6, 9]\n"
     ]
    },
    {
     "ename": "IndexError",
     "evalue": "list index out of range",
     "output_type": "error",
     "traceback": [
      "\u001b[0;31m---------------------------------------------------------------------------\u001b[0m",
      "\u001b[0;31mIndexError\u001b[0m                                Traceback (most recent call last)",
      "\u001b[0;32m<ipython-input-26-1d5a50b7c735>\u001b[0m in \u001b[0;36m<module>\u001b[0;34m()\u001b[0m\n\u001b[1;32m      3\u001b[0m     \u001b[0;34m[\u001b[0m\u001b[0;34m[\u001b[0m\u001b[0;36m12\u001b[0m\u001b[0;34m,\u001b[0m \u001b[0;36m5\u001b[0m\u001b[0;34m,\u001b[0m \u001b[0;36m11\u001b[0m\u001b[0;34m,\u001b[0m \u001b[0;36m15\u001b[0m\u001b[0;34m,\u001b[0m \u001b[0;36m4\u001b[0m\u001b[0;34m,\u001b[0m \u001b[0;36m1\u001b[0m\u001b[0;34m,\u001b[0m \u001b[0;36m2\u001b[0m\u001b[0;34m,\u001b[0m \u001b[0;36m14\u001b[0m\u001b[0;34m,\u001b[0m \u001b[0;36m9\u001b[0m\u001b[0;34m,\u001b[0m \u001b[0;36m6\u001b[0m\u001b[0;34m,\u001b[0m \u001b[0;36m3\u001b[0m\u001b[0;34m,\u001b[0m \u001b[0;36m8\u001b[0m\u001b[0;34m,\u001b[0m \u001b[0;36m10\u001b[0m\u001b[0;34m,\u001b[0m \u001b[0;36m7\u001b[0m\u001b[0;34m,\u001b[0m \u001b[0;36m13\u001b[0m\u001b[0;34m,\u001b[0m \u001b[0;36m0\u001b[0m\u001b[0;34m]\u001b[0m\u001b[0;34m,\u001b[0m \u001b[0;34m[\u001b[0m\u001b[0;36m4\u001b[0m\u001b[0;34m,\u001b[0m \u001b[0;36m1\u001b[0m\u001b[0;34m,\u001b[0m \u001b[0;36m7\u001b[0m\u001b[0;34m,\u001b[0m \u001b[0;36m3\u001b[0m\u001b[0;34m,\u001b[0m \u001b[0;36m2\u001b[0m\u001b[0;34m,\u001b[0m \u001b[0;36m12\u001b[0m\u001b[0;34m,\u001b[0m \u001b[0;36m9\u001b[0m\u001b[0;34m,\u001b[0m \u001b[0;36m5\u001b[0m\u001b[0;34m,\u001b[0m \u001b[0;36m6\u001b[0m\u001b[0;34m,\u001b[0m \u001b[0;36m14\u001b[0m\u001b[0;34m,\u001b[0m \u001b[0;36m15\u001b[0m\u001b[0;34m,\u001b[0m \u001b[0;36m13\u001b[0m\u001b[0;34m,\u001b[0m \u001b[0;36m8\u001b[0m\u001b[0;34m,\u001b[0m \u001b[0;36m11\u001b[0m\u001b[0;34m,\u001b[0m \u001b[0;36m10\u001b[0m\u001b[0;34m,\u001b[0m \u001b[0;36m0\u001b[0m\u001b[0;34m]\u001b[0m\u001b[0;34m,\u001b[0m \u001b[0;34m[\u001b[0m\u001b[0;36m4\u001b[0m\u001b[0;34m,\u001b[0m \u001b[0;36m6\u001b[0m\u001b[0;34m,\u001b[0m \u001b[0;36m14\u001b[0m\u001b[0;34m,\u001b[0m \u001b[0;36m2\u001b[0m\u001b[0;34m,\u001b[0m \u001b[0;36m15\u001b[0m\u001b[0;34m,\u001b[0m \u001b[0;36m1\u001b[0m\u001b[0;34m,\u001b[0m \u001b[0;36m3\u001b[0m\u001b[0;34m,\u001b[0m \u001b[0;36m8\u001b[0m\u001b[0;34m,\u001b[0m \u001b[0;36m12\u001b[0m\u001b[0;34m,\u001b[0m \u001b[0;36m5\u001b[0m\u001b[0;34m,\u001b[0m \u001b[0;36m11\u001b[0m\u001b[0;34m,\u001b[0m \u001b[0;36m7\u001b[0m\u001b[0;34m,\u001b[0m \u001b[0;36m10\u001b[0m\u001b[0;34m,\u001b[0m \u001b[0;36m13\u001b[0m\u001b[0;34m,\u001b[0m \u001b[0;36m9\u001b[0m\u001b[0;34m,\u001b[0m \u001b[0;36m0\u001b[0m\u001b[0;34m]\u001b[0m\u001b[0;34m,\u001b[0m \u001b[0;34m[\u001b[0m\u001b[0;36m7\u001b[0m\u001b[0;34m,\u001b[0m \u001b[0;36m1\u001b[0m\u001b[0;34m,\u001b[0m \u001b[0;36m4\u001b[0m\u001b[0;34m,\u001b[0m \u001b[0;36m13\u001b[0m\u001b[0;34m,\u001b[0m \u001b[0;36m9\u001b[0m\u001b[0;34m,\u001b[0m \u001b[0;36m8\u001b[0m\u001b[0;34m,\u001b[0m \u001b[0;36m0\u001b[0m\u001b[0;34m,\u001b[0m \u001b[0;36m15\u001b[0m\u001b[0;34m,\u001b[0m \u001b[0;36m10\u001b[0m\u001b[0;34m,\u001b[0m \u001b[0;36m2\u001b[0m\u001b[0;34m,\u001b[0m \u001b[0;36m12\u001b[0m\u001b[0;34m,\u001b[0m \u001b[0;36m3\u001b[0m\u001b[0;34m,\u001b[0m \u001b[0;36m6\u001b[0m\u001b[0;34m,\u001b[0m \u001b[0;36m5\u001b[0m\u001b[0;34m,\u001b[0m \u001b[0;36m14\u001b[0m\u001b[0;34m,\u001b[0m \u001b[0;36m11\u001b[0m\u001b[0;34m]\u001b[0m\u001b[0;34m,\u001b[0m \u001b[0;34m[\u001b[0m\u001b[0;36m7\u001b[0m\u001b[0;34m,\u001b[0m \u001b[0;36m1\u001b[0m\u001b[0;34m,\u001b[0m \u001b[0;36m4\u001b[0m\u001b[0;34m,\u001b[0m \u001b[0;36m0\u001b[0m\u001b[0;34m,\u001b[0m \u001b[0;36m9\u001b[0m\u001b[0;34m,\u001b[0m \u001b[0;36m15\u001b[0m\u001b[0;34m,\u001b[0m \u001b[0;36m13\u001b[0m\u001b[0;34m,\u001b[0m \u001b[0;36m2\u001b[0m\u001b[0;34m,\u001b[0m \u001b[0;36m5\u001b[0m\u001b[0;34m,\u001b[0m \u001b[0;36m8\u001b[0m\u001b[0;34m,\u001b[0m \u001b[0;36m10\u001b[0m\u001b[0;34m,\u001b[0m \u001b[0;36m12\u001b[0m\u001b[0;34m,\u001b[0m \u001b[0;36m3\u001b[0m\u001b[0;34m,\u001b[0m \u001b[0;36m6\u001b[0m\u001b[0;34m,\u001b[0m \u001b[0;36m14\u001b[0m\u001b[0;34m,\u001b[0m \u001b[0;36m11\u001b[0m\u001b[0;34m]\u001b[0m\u001b[0;34m,\u001b[0m \u001b[0;34m[\u001b[0m\u001b[0;36m2\u001b[0m\u001b[0;34m,\u001b[0m \u001b[0;36m3\u001b[0m\u001b[0;34m,\u001b[0m \u001b[0;36m5\u001b[0m\u001b[0;34m,\u001b[0m \u001b[0;36m6\u001b[0m\u001b[0;34m,\u001b[0m \u001b[0;36m7\u001b[0m\u001b[0;34m,\u001b[0m \u001b[0;36m11\u001b[0m\u001b[0;34m,\u001b[0m \u001b[0;36m15\u001b[0m\u001b[0;34m,\u001b[0m \u001b[0;36m14\u001b[0m\u001b[0;34m,\u001b[0m \u001b[0;36m13\u001b[0m\u001b[0;34m,\u001b[0m \u001b[0;36m9\u001b[0m\u001b[0;34m,\u001b[0m \u001b[0;36m1\u001b[0m\u001b[0;34m,\u001b[0m \u001b[0;36m4\u001b[0m\u001b[0;34m,\u001b[0m \u001b[0;36m0\u001b[0m\u001b[0;34m,\u001b[0m \u001b[0;36m8\u001b[0m\u001b[0;34m,\u001b[0m \u001b[0;36m10\u001b[0m\u001b[0;34m,\u001b[0m \u001b[0;36m12\u001b[0m\u001b[0;34m]\u001b[0m\u001b[0;34m]\u001b[0m\u001b[0;34m,\u001b[0m\u001b[0;34m\u001b[0m\u001b[0m\n\u001b[1;32m      4\u001b[0m     \u001b[0;34m[\u001b[0m\u001b[0;36m4\u001b[0m\u001b[0;34m,\u001b[0m \u001b[0;36m7\u001b[0m\u001b[0;34m,\u001b[0m \u001b[0;36m3\u001b[0m\u001b[0;34m,\u001b[0m \u001b[0;36m8\u001b[0m\u001b[0;34m,\u001b[0m \u001b[0;36m6\u001b[0m\u001b[0;34m,\u001b[0m \u001b[0;36m9\u001b[0m\u001b[0;34m]\u001b[0m\u001b[0;34m,\u001b[0m\u001b[0;34m\u001b[0m\u001b[0m\n\u001b[0;32m----> 5\u001b[0;31m     [3,3,3,3,3,3,3,3,3,3,3,3,3,3,3,3])\n\u001b[0m",
      "\u001b[0;32m<ipython-input-20-adeb6d4df0ad>\u001b[0m in \u001b[0;36mdeferred_acceptance_many\u001b[0;34m(dancer_preferences, choreographer_preferences, dancer_quota, song_quota)\u001b[0m\n\u001b[1;32m      9\u001b[0m \u001b[0;34m\u001b[0m\u001b[0m\n\u001b[1;32m     10\u001b[0m     \u001b[0;32mwhile\u001b[0m \u001b[0;32mnot\u001b[0m \u001b[0mfinished\u001b[0m\u001b[0;34m:\u001b[0m\u001b[0;34m\u001b[0m\u001b[0m\n\u001b[0;32m---> 11\u001b[0;31m         \u001b[0munmatched_preferences\u001b[0m\u001b[0;34m,\u001b[0m \u001b[0mnew_proposals\u001b[0m\u001b[0;34m,\u001b[0m \u001b[0mfinished\u001b[0m \u001b[0;34m=\u001b[0m \u001b[0mdancer_pairing_many\u001b[0m\u001b[0;34m(\u001b[0m\u001b[0munmatched_preferences\u001b[0m\u001b[0;34m,\u001b[0m \u001b[0mnew_proposals\u001b[0m\u001b[0;34m,\u001b[0m \u001b[0mchoreographer_acceptance\u001b[0m\u001b[0;34m,\u001b[0m \u001b[0mdancer_quota\u001b[0m\u001b[0;34m)\u001b[0m\u001b[0;34m\u001b[0m\u001b[0m\n\u001b[0m\u001b[1;32m     12\u001b[0m         \u001b[0mchoreographer_acceptance\u001b[0m \u001b[0;34m=\u001b[0m \u001b[0mchoreographer_tiebreak_many\u001b[0m\u001b[0;34m(\u001b[0m\u001b[0mchoreographer_preferences\u001b[0m\u001b[0;34m,\u001b[0m \u001b[0mnew_proposals\u001b[0m\u001b[0;34m,\u001b[0m \u001b[0mchoreographer_acceptance\u001b[0m\u001b[0;34m,\u001b[0m \u001b[0mdancer_quota\u001b[0m\u001b[0;34m,\u001b[0m \u001b[0msong_quota\u001b[0m\u001b[0;34m)\u001b[0m\u001b[0;34m\u001b[0m\u001b[0m\n\u001b[1;32m     13\u001b[0m \u001b[0;34m\u001b[0m\u001b[0m\n",
      "\u001b[0;32m<ipython-input-25-1ec0bef7c5e1>\u001b[0m in \u001b[0;36mdancer_pairing_many\u001b[0;34m(unmatched_dancer_preferences, prev_proposals, choreographer_acceptance, dancer_quota)\u001b[0m\n\u001b[1;32m     22\u001b[0m             \u001b[0mprint\u001b[0m\u001b[0;34m(\u001b[0m\u001b[0;34m\"index\"\u001b[0m\u001b[0;34m,\u001b[0m \u001b[0mindex\u001b[0m\u001b[0;34m)\u001b[0m\u001b[0;34m\u001b[0m\u001b[0m\n\u001b[1;32m     23\u001b[0m             \u001b[0mprint\u001b[0m\u001b[0;34m(\u001b[0m\u001b[0;34m\"dancer_quota\"\u001b[0m\u001b[0;34m,\u001b[0m \u001b[0mdancer_quota\u001b[0m\u001b[0;34m)\u001b[0m\u001b[0;34m\u001b[0m\u001b[0m\n\u001b[0;32m---> 24\u001b[0;31m             \u001b[0;32mfor\u001b[0m \u001b[0mi\u001b[0m \u001b[0;32min\u001b[0m \u001b[0mrange\u001b[0m\u001b[0;34m(\u001b[0m\u001b[0mdancer_quota\u001b[0m\u001b[0;34m[\u001b[0m\u001b[0mindex\u001b[0m\u001b[0;34m]\u001b[0m\u001b[0;34m)\u001b[0m\u001b[0;34m:\u001b[0m\u001b[0;34m\u001b[0m\u001b[0m\n\u001b[0m\u001b[1;32m     25\u001b[0m \u001b[0;34m\u001b[0m\u001b[0m\n\u001b[1;32m     26\u001b[0m                 \u001b[0;31m# if there are still unmatched preferences:\u001b[0m\u001b[0;34m\u001b[0m\u001b[0;34m\u001b[0m\u001b[0m\n",
      "\u001b[0;31mIndexError\u001b[0m: list index out of range"
     ]
    }
   ],
   "source": [
    "deferred_acceptance_many(\n",
    "    [[4, 5, 3, 0, 1, 2], [3, 1, 4, 5, 0, 2], [2, 1, 0, 5, 3, 4], [2, 0, 1, 5, 4, 3], [3, 1, 4, 2, 5, 0], [2, 0, 1, 5, 4, 3], [1, 2, 4, 0, 5, 3], [3, 4, 5, 1, 0, 2], [3, 4, 5, 1, 2, 0], [3, 5, 1, 0, 4, 2], [3, 1, 0, 5, 2, 4], [0, 1, 2, 3, 5, 4], [1, 0, 3, 2, 5, 4], [3, 4, 1, 0, 5, 2], [2, 1, 0, 5, 3, 4], [3, 4, 1, 5, 0, 2]],\n",
    "    [[12, 5, 11, 15, 4, 1, 2, 14, 9, 6, 3, 8, 10, 7, 13, 0], [4, 1, 7, 3, 2, 12, 9, 5, 6, 14, 15, 13, 8, 11, 10, 0], [4, 6, 14, 2, 15, 1, 3, 8, 12, 5, 11, 7, 10, 13, 9, 0], [7, 1, 4, 13, 9, 8, 0, 15, 10, 2, 12, 3, 6, 5, 14, 11], [7, 1, 4, 0, 9, 15, 13, 2, 5, 8, 10, 12, 3, 6, 14, 11], [2, 3, 5, 6, 7, 11, 15, 14, 13, 9, 1, 4, 0, 8, 10, 12]],\n",
    "    [3,3,3,3,3,3,3,3,3,3,3,3,3,3,3,3],\n",
    "    [4, 7, 3, 8, 6, 9])"
   ]
  },
  {
   "cell_type": "code",
   "execution_count": null,
   "metadata": {
    "collapsed": true
   },
   "outputs": [],
   "source": []
  }
 ],
 "metadata": {
  "kernelspec": {
   "display_name": "Python 3",
   "language": "python",
   "name": "python3"
  },
  "language_info": {
   "codemirror_mode": {
    "name": "ipython",
    "version": 3
   },
   "file_extension": ".py",
   "mimetype": "text/x-python",
   "name": "python",
   "nbconvert_exporter": "python",
   "pygments_lexer": "ipython3",
   "version": "3.6.3"
  }
 },
 "nbformat": 4,
 "nbformat_minor": 2
}
