{
 "cells": [
  {
   "cell_type": "markdown",
   "metadata": {},
   "source": [
    "24 dancers, 8 songs (8, 6, 12, 6, 10, 6, 4, 8)"
   ]
  },
  {
   "cell_type": "markdown",
   "metadata": {},
   "source": [
    "Dancer 1: 8, 6, 4, 5, 3, 7, 1, 2  \n",
    "Dancer 2: 4, 5, 2, 1, 3, 7, 8, 6  \n",
    "Dancer 3: 4, 3, 7, 2, 8, 1, 5, 6  \n",
    "Dancer 4: 1, 6, 7, 3, 2, 4, 5, 8  \n",
    "Dancer 5: 4, 6, 8, 1, 3, 7, 2, 5  \n",
    "Dancer 6: 3, 7, 8, 2, 5, 4, 6, 1  \n",
    "Dancer 7: 5, 4, 8, 6, 1, 3, 2, 7  \n",
    "Dancer 8: 4, 6, 2, 5, 7, 8, 3, 1  \n",
    "Dancer 9: 7, 8, 2, 5, 3, 6, 1, 4  \n",
    "Dancer 10: 5, 7, 8, 1, 3, 2, 4, 6  \n",
    "Dancer 11: 2, 7, 1, 6, 3, 8, 4, 5  \n",
    "Dancer 12: 7, 4, 2, 1, 5, 3, 6, 8  \n",
    "Dancer 13: 7, 6, 4, 1, 8, 5, 3, 2  \n",
    "Dancer 14: 2, 8, 6, 4, 7, 3, 1, 5  \n",
    "Dancer 15: 5, 2, 6, 1, 4, 7, 8, 3  \n",
    "Dancer 16: 6, 1, 7, 4, 3, 8, 2, 5  \n",
    "Dancer 17: 6, 3, 2, 1, 5, 7, 4, 8  \n",
    "Dancer 18: 2, 8, 4, 6, 5, 1, 3, 7  \n",
    "Dancer 19: 6, 3, 8, 7, 4, 5, 2, 1  \n",
    "Dancer 20: 3, 1, 4, 7, 6, 8, 5, 2  \n",
    "Dancer 21: 4, 1, 8, 7, 3, 5, 2, 6  \n",
    "Dancer 22: 1, 3, 4, 7, 5, 6, 2, 8  \n",
    "Dancer 23: 4, 7, 5, 3, 6, 1, 8, 2  \n",
    "Dancer 24: 5, 4, 6, 2, 1, 7, 8, 3  "
   ]
  },
  {
   "cell_type": "markdown",
   "metadata": {},
   "source": []
  },
  {
   "cell_type": "markdown",
   "metadata": {},
   "source": [
    "Round 1  \n",
    "Dancer 1: 8, 6, 4,  \n",
    "Dancer 2: 4, (5), 2,  \n",
    "Dancer 3: 4, (3), (7),  \n",
    "Dancer 4: (1), 6, 7,  \n",
    "Dancer 5: (4), 6, (8),  \n",
    "Dancer 6: (3), (7), (8),  \n",
    "Dancer 7: (5), (4), 8,  \n",
    "Dancer 8: (4), (6), (2),  \n",
    "Dancer 9: 7, (8), (2),  \n",
    "Dancer 10: (5), (7), (8),  \n",
    "Dancer 11: (2), (7), (1),  \n",
    "Dancer 12: 7, 4, 2,  \n",
    "Dancer 13: 7, (6), (4),  \n",
    "Dancer 14: 2, (8), (6),  \n",
    "Dancer 15: (5), (2), (6),  \n",
    "Dancer 16: (6), (1), 7,  \n",
    "Dancer 17: 6, (3), (2),  \n",
    "Dancer 18: (2), (8), (4),  \n",
    "Dancer 19: 6, (3), (8),  \n",
    "Dancer 20: (3), (1), 4,  \n",
    "Dancer 21: 4, (1), (8),  \n",
    "Dancer 22: (1), (3), 4,  \n",
    "Dancer 23: (4), 7, (5),  \n",
    "Dancer 24: (5), 4, (6),  "
   ]
  },
  {
   "cell_type": "markdown",
   "metadata": {},
   "source": [
    "Round 2  \n",
    "Dancer 1: (5), (3), 7  \n",
    "Dancer 2: (5), (1), (3)  \n",
    "Dancer 3: (3), (2), 8  \n",
    "Dancer 4: (1), (3), (2)  \n",
    "Dancer 5: (4), (8), (1)  \n",
    "Dancer 6: (3), (7), (8)  \n",
    "Dancer 7: (5), (4), (6)  \n",
    "Dancer 8: (4), (6), (2)  \n",
    "Dancer 9: (8), (2), (5)  \n",
    "Dancer 10: (5), (7), (8)  \n",
    "Dancer 11: (2), (7), (1)  \n",
    "Dancer 12: (1), (5), (3)  \n",
    "Dancer 13: (6), (4), (1)  \n",
    "Dancer 14: (8), 6, (4)  \n",
    "Dancer 15: (5), 2, (6)  \n",
    "Dancer 16: (6), 1, 4  \n",
    "Dancer 17: (3), 2, 1  \n",
    "Dancer 18: (2), (8), 4  \n",
    "Dancer 19: (3), (8), 7  \n",
    "Dancer 20: (3), (1), 6  \n",
    "Dancer 21: (1), (8), 7  \n",
    "Dancer 22: 1, (3), (7)  \n",
    "Dancer 23: (4), (5), (3)  \n",
    "Dancer 24: (5), (6), 2  \n",
    "  \n",
    "Song 1 filled  \n",
    "Song 2 filled \n",
    "Song 4 filled\n",
    "Song 6 filled"
   ]
  },
  {
   "cell_type": "markdown",
   "metadata": {},
   "source": [
    "Round 3  \n",
    "Dancer 1: (5), (3), 7  \n",
    "Dancer 2: (5), (1), (3)  \n",
    "Dancer 3: (3), (2), 1  \n",
    "Dancer 4: (1), (3), (2)  \n",
    "Dancer 5: (4), (8), (1)  \n",
    "Dancer 6: (3), (7), (8)  \n",
    "Dancer 7: (5), (4), (6)  \n",
    "Dancer 8: (4), (6), (2)  \n",
    "Dancer 9: (8), (2), (5)  \n",
    "Dancer 10: (5), (7), (8)  \n",
    "Dancer 11: (2), (7), (1)  \n",
    "Dancer 12: (1), (5), (3)  \n",
    "Dancer 13: (6), (4), (1)  \n",
    "Dancer 14: (8), (4), 7,  \n",
    "Dancer 15: (5), (6), 1  \n",
    "Dancer 16: (6), 3, 8  \n",
    "Dancer 17: (3), 5, 7  \n",
    "Dancer 18: (2), (8), 6  \n",
    "Dancer 19: (3), (8), 4  \n",
    "Dancer 20: (3), (1), 8  \n",
    "Dancer 21: (1), (8), 3  \n",
    "Dancer 22: (3), (7), 5  \n",
    "Dancer 23: (4), (5), (3)  \n",
    "Dancer 24: (5), (6), 1 "
   ]
  },
  {
   "cell_type": "markdown",
   "metadata": {},
   "source": [
    "Song 1: 19, 14, 1, 18, 19, 10, 11, 5, 10, 16, 21, 4, 23, 6, 18, 14, 17, 9, 1, 4, 17, 18, 23, 16  \n",
    "Song 2: 8, 6, 4, 1, 10, 9, 22, 16, 23, 11, 20, 3, 7, 18, 5, 21, 17, 15, 2, 12, 14, 13, 24, 19  \n",
    "Song 3: 3, 1, 24, 6, 9, 12, 8, 23, 18, 16, 2, 17, 13, 7, 19, 4, 15, 21, 14, 10, 5, 22, 20, 11  \n",
    "Song 4: 7, 8, 23, 14, 11, 5, 10, 13, 16, 18, 4, 15, 22, 20, 19, 2, 6, 12, 17, 1, 9, 3, 21, 24  \n",
    "Song 5: 7, 21, 1, 22, 17, 10, 4, 14, 16, 3, 9, 11, 20, 2, 5, 13, 8, 15, 12, 23, 19, 24, 6, 18  \n",
    "Song 6: 6, 16, 3, 13, 24, 15, 7, 4, 8, 22, 11, 9, 2, 18, 17, 21, 19, 1, 14, 12, 10, 23, 5, 20  \n",
    "Song 7: 22, 2, 11, 3, 10, 6, 19, 14, 8, 24, 16, 23, 15, 1, 5, 13, 4, 12, 9, 17, 18, 21, 7, 20  \n",
    "Song 8: 14, 24, 19, 4, 23, 11, 13, 22, 20, 21, 6, 18, 5, 9, 12, 16, 2, 10, 7, 15, 17, 3, 1, 8  "
   ]
  },
  {
   "cell_type": "code",
   "execution_count": null,
   "metadata": {
    "collapsed": true
   },
   "outputs": [],
   "source": []
  }
 ],
 "metadata": {
  "kernelspec": {
   "display_name": "Python 3",
   "language": "python",
   "name": "python3"
  },
  "language_info": {
   "codemirror_mode": {
    "name": "ipython",
    "version": 3
   },
   "file_extension": ".py",
   "mimetype": "text/x-python",
   "name": "python",
   "nbconvert_exporter": "python",
   "pygments_lexer": "ipython3",
   "version": "3.6.3"
  }
 },
 "nbformat": 4,
 "nbformat_minor": 2
}
